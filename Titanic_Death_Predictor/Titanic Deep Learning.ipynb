{
 "cells": [
  {
   "cell_type": "code",
   "execution_count": 531,
   "metadata": {
    "collapsed": true,
    "pycharm": {
     "name": "#%%\n"
    }
   },
   "outputs": [],
   "source": [
    "import numpy as np\n",
    "import pandas as pd\n",
    "import matplotlib.pyplot as plt\n",
    "import seaborn as sns\n",
    "\n",
    "file_path_gender = \"gender_submission.csv\"\n",
    "file_path_train = \"train.csv\"\n",
    "file_path_test = \"test.csv\""
   ]
  },
  {
   "cell_type": "code",
   "execution_count": 532,
   "outputs": [],
   "source": [
    "def replace_embarked(embarked):\n",
    "    if embarked == 'Q':\n",
    "        return 1\n",
    "    elif embarked == 'S':\n",
    "        return 2\n",
    "    else:\n",
    "        return 3"
   ],
   "metadata": {
    "collapsed": false,
    "pycharm": {
     "name": "#%%\n"
    }
   }
  },
  {
   "cell_type": "code",
   "execution_count": 533,
   "outputs": [],
   "source": [
    "def replace_gender(gender):\n",
    "    if gender == 'male':\n",
    "        return 1\n",
    "    else:\n",
    "        return 2"
   ],
   "metadata": {
    "collapsed": false,
    "pycharm": {
     "name": "#%%\n"
    }
   }
  },
  {
   "cell_type": "code",
   "execution_count": 534,
   "outputs": [],
   "source": [
    "def replace_name(name):\n",
    "    if \"Mrs.\" in name:\n",
    "        return 1\n",
    "    elif \"Mr.\" in name:\n",
    "        return 2\n",
    "    else:\n",
    "        return 3"
   ],
   "metadata": {
    "collapsed": false,
    "pycharm": {
     "name": "#%%\n"
    }
   }
  },
  {
   "cell_type": "code",
   "execution_count": 535,
   "outputs": [],
   "source": [
    "def initialise_parameters(layer_dims):\n",
    "    np.random.seed(1)\n",
    "    parameters = {}\n",
    "\n",
    "    for l in range(1, len(layer_dims)):\n",
    "        parameters[\"W\" + str(l)] = np.random.randn(layer_dims[l], layer_dims[l - 1]) * 0.01\n",
    "        parameters[\"b\" + str(l)] = np.zeros((layer_dims[l], 1))\n",
    "\n",
    "    return parameters"
   ],
   "metadata": {
    "collapsed": false,
    "pycharm": {
     "name": "#%%\n"
    }
   }
  },
  {
   "cell_type": "code",
   "execution_count": 536,
   "outputs": [],
   "source": [
    "def sigmoid(Z):\n",
    "    A = 1/(1+np.exp(-Z))\n",
    "    cache = Z\n",
    "    return A, cache"
   ],
   "metadata": {
    "collapsed": false,
    "pycharm": {
     "name": "#%%\n"
    }
   }
  },
  {
   "cell_type": "code",
   "execution_count": 537,
   "outputs": [],
   "source": [
    "def sigmoid_backward_propagation(dA, cache):\n",
    "    z = cache\n",
    "    s = 1/ (1 + np.exp(-z))\n",
    "    return dA * s * (1-s)"
   ],
   "metadata": {
    "collapsed": false,
    "pycharm": {
     "name": "#%%\n"
    }
   }
  },
  {
   "cell_type": "code",
   "execution_count": 538,
   "outputs": [],
   "source": [
    "def leaky_relu(Z):\n",
    "    cache = Z\n",
    "    A = np.maximum(0.01 * Z, Z)\n",
    "    return A, cache;"
   ],
   "metadata": {
    "collapsed": false,
    "pycharm": {
     "name": "#%%\n"
    }
   }
  },
  {
   "cell_type": "code",
   "execution_count": 539,
   "outputs": [],
   "source": [
    "def leaky_relu_back_propagation(dA, cache):\n",
    "    Z = cache\n",
    "    dZ = np.array(dA, copy=True)\n",
    "    dZ[Z <= 0] = 0.01\n",
    "    dZ[Z >= 0] = 1\n",
    "    assert (dZ.shape == Z.shape)\n",
    "    return dZ"
   ],
   "metadata": {
    "collapsed": false,
    "pycharm": {
     "name": "#%%\n"
    }
   }
  },
  {
   "cell_type": "code",
   "execution_count": 540,
   "outputs": [],
   "source": [
    "def relu(Z):\n",
    "    \"\"\"\n",
    "    Implement the RELU function.\n",
    "    Arguments:\n",
    "    Z -- Output of the linear layer, of any shape\n",
    "    Returns:\n",
    "    A -- Post-activation parameter, of the same shape as Z\n",
    "    cache -- a python dictionary containing \"A\" ; stored for computing the backward pass efficiently\n",
    "    \"\"\"\n",
    "    A = np.maximum(0,Z)\n",
    "    assert(A.shape == Z.shape)\n",
    "    cache = Z\n",
    "    return A, cache\n",
    "def relu_backward(dA, cache):\n",
    "    \"\"\"\n",
    "    Implement the backward propagation for a single RELU unit.\n",
    "    Arguments:\n",
    "    dA -- post-activation gradient, of any shape\n",
    "    cache -- 'Z' where we store for computing backward propagation efficiently\n",
    "    Returns:\n",
    "    dZ -- Gradient of the cost with respect to Z\n",
    "    \"\"\"\n",
    "    Z = cache\n",
    "    dZ = np.array(dA, copy=True) # just converting dz to a correct object.\n",
    "\n",
    "    # When z <= 0, you should set dz to 0 as well.\n",
    "    dZ[Z <= 0] = 0\n",
    "\n",
    "    assert (dZ.shape == Z.shape)\n",
    "\n",
    "    return dZ"
   ],
   "metadata": {
    "collapsed": false,
    "pycharm": {
     "name": "#%%\n"
    }
   }
  },
  {
   "cell_type": "code",
   "execution_count": 541,
   "outputs": [],
   "source": [
    "def linear_forward_propagation(A, W, b):\n",
    "    \"\"\"\n",
    "    Implement the linear part of a layer's forward propagation.\n",
    "\n",
    "    Arguments:\n",
    "    A -- activations from previous layer (or input data): (size of previous layer, number of examples)\n",
    "    W -- weights matrix: numpy array of shape (size of current layer, size of previous layer)\n",
    "    b -- bias vector, numpy array of shape (size of the current layer, 1)\n",
    "\n",
    "    Returns:\n",
    "    -- the input of the activation function, also called pre-activation parameter\n",
    "    cache -- a python dictionary containing \"A\", \"W\" and \"b\" ; stored for computing the backward pass efficiently\n",
    "    \"\"\"\n",
    "    cache = (A, W, b)\n",
    "    return W.dot(A) + b, cache"
   ],
   "metadata": {
    "collapsed": false,
    "pycharm": {
     "name": "#%%\n"
    }
   }
  },
  {
   "cell_type": "code",
   "execution_count": 542,
   "outputs": [],
   "source": [
    "def forward_propagation(A_prev, W, b, activation):\n",
    "    \"\"\"\n",
    "    Implement the forward propagation for the LINEAR->ACTIVATION layer\n",
    "\n",
    "    Arguments:\n",
    "    A_prev -- activations from previous layer (or input data): (size of previous layer, number of examples)\n",
    "    W -- weights matrix: numpy array of shape (size of current layer, size of previous layer)\n",
    "    b -- bias vector, numpy array of shape (size of the current layer, 1)\n",
    "    activation -- the activation to be used in this layer, stored as a text string: \"sigmoid\" or \"relu\"\n",
    "\n",
    "    Returns:\n",
    "    A -- the output of the activation function, also called the post-activation value\n",
    "    cache -- a python dictionary containing \"linear_cache\" and \"activation_cache\";\n",
    "             stored for computing the backward pass efficiently\n",
    "    \"\"\"\n",
    "    if activation == \"sigmoid\":\n",
    "        Z, linear_cache = linear_forward_propagation(A_prev, W, b)\n",
    "        A, activation_cache = sigmoid(Z)\n",
    "    elif activation == \"relu\":\n",
    "        Z, linear_cache = linear_forward_propagation(A_prev, W, b)\n",
    "        A, activation_cache = relu(Z)\n",
    "    cache = (linear_cache, activation_cache)\n",
    "    return A, cache"
   ],
   "metadata": {
    "collapsed": false,
    "pycharm": {
     "name": "#%%\n"
    }
   }
  },
  {
   "cell_type": "code",
   "execution_count": 543,
   "outputs": [],
   "source": [
    "def L_model_forward(X, parameters):\n",
    "    \"\"\"\n",
    "    Implement forward propagation for the [LINEAR->RELU]*(L-1)->LINEAR->SIGMOID computation\n",
    "    Arguments:\n",
    "    X -- data, numpy array of shape (input size, number of examples)\n",
    "    parameters -- output of initialize_parameters_deep()\n",
    "    Returns:\n",
    "    AL -- last post-activation value\n",
    "    caches -- list of caches containing:\n",
    "                every cache of linear_relu_forward() (there are L-1 of them, indexed from 0 to L-2)\n",
    "                the cache of linear_sigmoid_forward() (there is one, indexed L-1)\n",
    "    \"\"\"\n",
    "    caches = []\n",
    "    A = X\n",
    "    L = len(parameters) // 2\n",
    "    for l in range(1, L):\n",
    "        A_prev = A\n",
    "        A, cache = forward_propagation(A_prev, parameters['W' + str(l)], parameters['b' + str(l)], activation = \"relu\")\n",
    "        caches.append(cache)\n",
    "\n",
    "    # Implement LINEAR -> SIGMOID. Add \"cache\" to the \"caches\" list.\n",
    "    AL, cache = forward_propagation(A, parameters['W' + str(L)], parameters['b' + str(L)], activation = \"sigmoid\")\n",
    "    caches.append(cache)\n",
    "\n",
    "    assert(AL.shape == (1,X.shape[1]))\n",
    "\n",
    "    return AL, caches"
   ],
   "metadata": {
    "collapsed": false,
    "pycharm": {
     "name": "#%%\n"
    }
   }
  },
  {
   "cell_type": "code",
   "execution_count": 544,
   "outputs": [],
   "source": [
    "def compute_cost(AL, Y):\n",
    "    \"\"\"\n",
    "    Implement the cost function defined by equation (7).\n",
    "    Arguments:\n",
    "    AL -- probability vector corresponding to your label predictions, shape (1, number of examples)\n",
    "    Y -- true \"label\" vector (for example: containing 0 if non-cat, 1 if cat), shape (1, number of examples)\n",
    "    Returns:\n",
    "    cost -- cross-entropy cost\n",
    "    \"\"\"\n",
    "    m = Y.shape[1]\n",
    "    # print(AL)\n",
    "    # Compute loss from aL and y.\n",
    "    cost = (1./m) * (-np.dot(Y,np.log(AL).T) - np.dot(1-Y, np.log(1-AL).T))\n",
    "\n",
    "    cost = np.squeeze(cost)      # To make sure your cost's shape is what we expect (e.g. this turns [[17]] into 17).\n",
    "    assert(cost.shape == ())\n",
    "\n",
    "    return cost"
   ],
   "metadata": {
    "collapsed": false,
    "pycharm": {
     "name": "#%%\n"
    }
   }
  },
  {
   "cell_type": "code",
   "execution_count": 545,
   "outputs": [],
   "source": [
    "def linear_backward(dZ, cache):\n",
    "    \"\"\"\n",
    "    Implement the linear portion of backward propagation for a single layer (layer l)\n",
    "\n",
    "    Arguments:\n",
    "    dZ -- Gradient of the cost with respect to the linear output (of current layer l)\n",
    "    cache -- tuple of values (A_prev, W, b) coming from the forward propagation in the current layer\n",
    "\n",
    "    Returns:\n",
    "    dA_prev -- Gradient of the cost with respect to the activation (of the previous layer l-1), same shape as A_prev\n",
    "    dW -- Gradient of the cost with respect to W (current layer l), same shape as W\n",
    "    db -- Gradient of the cost with respect to b (current layer l), same shape as b\n",
    "    \"\"\"\n",
    "    A_prev, W, b = cache\n",
    "    m = A_prev.shape[1]\n",
    "\n",
    "    dW = 1./m * np.dot(dZ,A_prev.T)\n",
    "    db = 1./m * np.sum(dZ, axis = 1, keepdims = True)\n",
    "    dA_prev = np.dot(W.T,dZ)\n",
    "\n",
    "    assert (dA_prev.shape == A_prev.shape)\n",
    "    assert (dW.shape == W.shape)\n",
    "    assert (db.shape == b.shape)\n",
    "\n",
    "    return dA_prev, dW, db"
   ],
   "metadata": {
    "collapsed": false,
    "pycharm": {
     "name": "#%%\n"
    }
   }
  },
  {
   "cell_type": "code",
   "execution_count": 546,
   "outputs": [],
   "source": [
    "def linear_activation_backward(dA, cache, activation):\n",
    "    \"\"\"\n",
    "    Implement the backward propagation for the LINEAR->ACTIVATION layer.\n",
    "\n",
    "    Arguments:\n",
    "    dA -- post-activation gradient for current layer l\n",
    "    cache -- tuple of values (linear_cache, activation_cache) we store for computing backward propagation efficiently\n",
    "    activation -- the activation to be used in this layer, stored as a text string: \"sigmoid\" or \"relu\"\n",
    "\n",
    "    Returns:\n",
    "    dA_prev -- Gradient of the cost with respect to the activation (of the previous layer l-1), same shape as A_prev\n",
    "    dW -- Gradient of the cost with respect to W (current layer l), same shape as W\n",
    "    db -- Gradient of the cost with respect to b (current layer l), same shape as b\n",
    "    \"\"\"\n",
    "    linear_cache, activation_cache = cache\n",
    "\n",
    "    if activation == \"relu\":\n",
    "        dZ = relu_backward(dA, activation_cache)\n",
    "        dA_prev, dW, db = linear_backward(dZ, linear_cache)\n",
    "\n",
    "    elif activation == \"sigmoid\":\n",
    "        dZ = sigmoid_backward_propagation(dA, activation_cache)\n",
    "        dA_prev, dW, db = linear_backward(dZ, linear_cache)\n",
    "\n",
    "    return dA_prev, dW, db"
   ],
   "metadata": {
    "collapsed": false,
    "pycharm": {
     "name": "#%%\n"
    }
   }
  },
  {
   "cell_type": "code",
   "execution_count": 547,
   "outputs": [],
   "source": [
    "def L_model_backward(AL, Y, caches):\n",
    "    \"\"\"\n",
    "    Implement the backward propagation for the [LINEAR->RELU] * (L-1) -> LINEAR -> SIGMOID group\n",
    "\n",
    "    Arguments:\n",
    "    AL -- probability vector, output of the forward propagation (L_model_forward())\n",
    "    Y -- true \"label\" vector (containing 0 if non-cat, 1 if cat)\n",
    "    caches -- list of caches containing:\n",
    "                every cache of linear_activation_forward() with \"relu\" (there are (L-1) or them, indexes from 0 to L-2)\n",
    "                the cache of linear_activation_forward() with \"sigmoid\" (there is one, index L-1)\n",
    "    Returns:\n",
    "    grads -- A dictionary with the gradients\n",
    "             grads[\"dA\" + str(l)] = ...\n",
    "             grads[\"dW\" + str(l)] = ...\n",
    "             grads[\"db\" + str(l)] = ...\n",
    "    \"\"\"\n",
    "    grads = {}\n",
    "    L = len(caches) # the number of layers\n",
    "    m = AL.shape[1]\n",
    "    Y = Y.reshape(AL.shape) # after this line, Y is the same shape as AL\n",
    "\n",
    "    # Initializing the backpropagation\n",
    "    dAL = - (np.divide(Y, AL) - np.divide(1 - Y, 1 - AL))\n",
    "    # Lth layer (SIGMOID -> LINEAR) gradients. Inputs: \"AL, Y, caches\". Outputs: \"grads[\"dAL\"], grads[\"dWL\"], grads[\"dbL\"]\n",
    "    current_cache = caches[L-1]\n",
    "    grads[\"dA\" + str(L-1)], grads[\"dW\" + str(L)], grads[\"db\" + str(L)] = linear_activation_backward(dAL, current_cache, activation = \"sigmoid\")\n",
    "    for l in reversed(range(L-1)):\n",
    "        # lth layer: (RELU -> LINEAR) gradients.\n",
    "        current_cache = caches[l]\n",
    "        dA_prev_temp, dW_temp, db_temp = linear_activation_backward(grads[\"dA\" + str(l + 1)], current_cache, activation = \"relu\")\n",
    "        grads[\"dA\" + str(l)] = dA_prev_temp\n",
    "        grads[\"dW\" + str(l + 1)] = dW_temp\n",
    "        grads[\"db\" + str(l + 1)] = db_temp\n",
    "\n",
    "    return grads"
   ],
   "metadata": {
    "collapsed": false,
    "pycharm": {
     "name": "#%%\n"
    }
   }
  },
  {
   "cell_type": "code",
   "execution_count": 548,
   "outputs": [],
   "source": [
    "def update_parameters(parameters, grads, learning_rate):\n",
    "    \"\"\"\n",
    "    Update parameters using gradient descent\n",
    "    Arguments:\n",
    "    parameters -- python dictionary containing your parameters\n",
    "    grads -- python dictionary containing your gradients, output of L_model_backward\n",
    "    Returns:\n",
    "    parameters -- python dictionary containing your updated parameters\n",
    "                  parameters[\"W\" + str(l)] = ...\n",
    "                  parameters[\"b\" + str(l)] = ...\n",
    "    \"\"\"\n",
    "    L = len(parameters) // 2 # number of layers in the neural network\n",
    "    # Update rule for each parameter. Use a for loop.\n",
    "    for l in range(L):\n",
    "        parameters[\"W\" + str(l+1)] = parameters[\"W\" + str(l+1)] - learning_rate * grads[\"dW\" + str(l+1)]\n",
    "        parameters[\"b\" + str(l+1)] = parameters[\"b\" + str(l+1)] - learning_rate * grads[\"db\" + str(l+1)]\n",
    "\n",
    "    return parameters\n"
   ],
   "metadata": {
    "collapsed": false,
    "pycharm": {
     "name": "#%%\n"
    }
   }
  },
  {
   "cell_type": "code",
   "execution_count": 549,
   "outputs": [],
   "source": [
    "def predict(X, y, parameters):\n",
    "    \"\"\"\n",
    "    This function is used to predict the results of a  L-layer neural network.\n",
    "    Arguments:\n",
    "    X -- data set of examples you would like to label\n",
    "    parameters -- parameters of the trained model\n",
    "    Returns:\n",
    "    p -- predictions for the given dataset X\n",
    "    \"\"\"\n",
    "    m = X.shape[1]\n",
    "    n = len(parameters) // 2 # number of layers in the neural network\n",
    "    p = np.zeros((1,m))\n",
    "    # Forward propagation\n",
    "    probas, caches = L_model_forward(X, parameters)\n",
    "    # convert probas to 0/1 predictions\n",
    "    for i in range(0, probas.shape[1]):\n",
    "        if probas[0,i] > 0.5:\n",
    "            p[0,i] = 1\n",
    "        else:\n",
    "            p[0,i] = 0\n",
    "    #print results\n",
    "    #print (\"predictions: \" + str(p))\n",
    "    #print (\"true labels: \" + str(y))\n",
    "    print(\"Accuracy: \"  + str(np.sum((p == y)/m) * 100))\n",
    "    return p"
   ],
   "metadata": {
    "collapsed": false,
    "pycharm": {
     "name": "#%%\n"
    }
   }
  },
  {
   "cell_type": "code",
   "execution_count": 550,
   "outputs": [],
   "source": [
    "def L_layer_model(X, Y, layers_dims, learning_rate = 0.0075, num_iterations = 3000, print_cost=False):\n",
    "    \"\"\"\n",
    "    Implements a L-layer neural network: [LINEAR->RELU]*(L-1)->LINEAR->SIGMOID.\n",
    "\n",
    "    Arguments:\n",
    "    X -- data, numpy array of shape (num_px * num_px * 3, number of examples)\n",
    "    Y -- true \"label\" vector (containing 0 if cat, 1 if non-cat), of shape (1, number of examples)\n",
    "    layers_dims -- list containing the input size and each layer size, of length (number of layers + 1).\n",
    "    learning_rate -- learning rate of the gradient descent update rule\n",
    "    num_iterations -- number of iterations of the optimization loop\n",
    "    print_cost -- if True, it prints the cost every 100 steps\n",
    "\n",
    "    Returns:\n",
    "    parameters -- parameters learnt by the model. They can then be used to predict.\n",
    "    \"\"\"\n",
    "    np.random.seed(1)\n",
    "    costs = []\n",
    "    parameters = initialise_parameters(layers_dims)\n",
    "\n",
    "    for i in range(0, num_iterations):\n",
    "\n",
    "        # Forward propagation: [LINEAR -> RELU]*(L-1) -> LINEAR -> SIGMOID.\n",
    "        ### START CODE HERE ### (≈ 1 line of code)\n",
    "        AL, caches = L_model_forward(X, parameters)\n",
    "        ### END CODE HERE ###\n",
    "\n",
    "        # Compute cost.\n",
    "        ### START CODE HERE ### (≈ 1 line of code)\n",
    "        cost = compute_cost(AL, Y)\n",
    "        ### END CODE HERE ###\n",
    "\n",
    "        # Backward propagation.\n",
    "        ### START CODE HERE ### (≈ 1 line of code)\n",
    "        grads = L_model_backward(AL, Y, caches)\n",
    "        ### END CODE HERE ###\n",
    "\n",
    "        # Update parameters.\n",
    "        ### START CODE HERE ### (≈ 1 line of code)\n",
    "        parameters = update_parameters(parameters, grads, learning_rate)\n",
    "        ### END CODE HERE ###\n",
    "\n",
    "        # Print the cost every 100 training example\n",
    "        if print_cost and i % 100 == 0:\n",
    "            print (\"Cost after iteration %i: %f\" %(i, cost))\n",
    "        if print_cost and i % 100 == 0:\n",
    "            costs.append(cost)\n",
    "\n",
    "    plt.plot(np.squeeze(costs))\n",
    "    plt.ylabel('cost')\n",
    "    plt.xlabel('iterations (per hundreds)')\n",
    "    plt.title(\"Learning rate =\" + str(learning_rate))\n",
    "    plt.show()\n",
    "\n",
    "    return parameters"
   ],
   "metadata": {
    "collapsed": false,
    "pycharm": {
     "name": "#%%\n"
    }
   }
  },
  {
   "cell_type": "code",
   "execution_count": 551,
   "outputs": [
    {
     "name": "stdout",
     "output_type": "stream",
     "text": [
      "gender_submission.csv\n"
     ]
    },
    {
     "data": {
      "text/plain": "<AxesSubplot:>"
     },
     "execution_count": 551,
     "metadata": {},
     "output_type": "execute_result"
    },
    {
     "data": {
      "text/plain": "<Figure size 432x288 with 2 Axes>",
      "image/png": "[encoded data removed]"
     },
     "metadata": {
      "needs_background": "light"
     },
     "output_type": "display_data"
    }
   ],
   "source": [
    "print(file_path_gender)\n",
    "df_gender = pd.read_csv(file_path_gender)\n",
    "df_train = pd.read_csv(file_path_train)\n",
    "\n",
    "### Let's build our input Matrix\n",
    "\n",
    "X_embarked = df_train.Embarked.map(lambda df: replace_embarked(df))\n",
    "X_gender = df_train.Sex.map(lambda df: replace_gender(df))\n",
    "X_name = df_train.Name.map(lambda df: replace_name(df))\n",
    "X_class = df_train.Pclass\n",
    "X_sib = df_train.SibSp\n",
    "X_parch = df_train.Parch\n",
    "X_fare = df_train.Fare\n",
    "X_age = df_train.Age\n",
    "X_survived = df_train.Survived\n",
    "\n",
    "sns.heatmap(df_train.corr())"
   ],
   "metadata": {
    "collapsed": false,
    "pycharm": {
     "name": "#%%\n"
    }
   }
  },
  {
   "cell_type": "code",
   "execution_count": 552,
   "outputs": [
    {
     "name": "stdout",
     "output_type": "stream",
     "text": [
      "[[ 1.      2.      2.     ...  2.      1.      1.    ]\n",
      " [ 3.      1.      3.     ...  1.      1.      3.    ]\n",
      " [ 2.      1.      3.     ...  3.      2.      2.    ]\n",
      " ...\n",
      " [ 7.25   71.2833  7.925  ... 30.     30.      7.75  ]\n",
      " [ 0.      0.      0.     ...  0.      0.      0.    ]\n",
      " [22.     38.     26.     ... 19.     26.     32.    ]]\n"
     ]
    }
   ],
   "source": [
    "X = pd.concat([X_gender, X_class, X_name, X_embarked, X_sib, X_fare, X_parch, X_age, X_survived], axis=1)\n",
    "# drop the nan values from age\n",
    "X = X[X.Age.notna()]\n",
    "\n",
    "Y = X[\"Survived\"]\n",
    "Y = np.array(Y).reshape((714, 1))\n",
    "X = X.drop(columns=['Survived'], axis=1)\n",
    "X = np.array(X).transpose()\n",
    "\n",
    "print(X)"
   ],
   "metadata": {
    "collapsed": false,
    "pycharm": {
     "name": "#%%\n"
    }
   }
  },
  {
   "cell_type": "code",
   "execution_count": 553,
   "outputs": [
    {
     "name": "stdout",
     "output_type": "stream",
     "text": [
      "Cost after iteration 0: 0.693139\n",
      "Cost after iteration 100: 0.676196\n",
      "Cost after iteration 200: 0.640320\n",
      "Cost after iteration 300: 0.630900\n",
      "Cost after iteration 400: 0.628604\n",
      "Cost after iteration 500: 0.627397\n",
      "Cost after iteration 600: 0.625864\n",
      "Cost after iteration 700: 0.622440\n",
      "Cost after iteration 800: 0.629027\n",
      "Cost after iteration 900: 0.616682\n",
      "Cost after iteration 1000: 0.613519\n",
      "Cost after iteration 1100: 0.609560\n",
      "Cost after iteration 1200: 0.606649\n",
      "Cost after iteration 1300: 0.601759\n",
      "Cost after iteration 1400: 0.597183\n",
      "Cost after iteration 1500: 0.597372\n",
      "Cost after iteration 1600: 0.586713\n",
      "Cost after iteration 1700: 0.580615\n",
      "Cost after iteration 1800: 0.603973\n",
      "Cost after iteration 1900: 0.592455\n",
      "Cost after iteration 2000: 0.562842\n",
      "Cost after iteration 2100: 0.583938\n",
      "Cost after iteration 2200: 0.618115\n",
      "Cost after iteration 2300: 0.549948\n",
      "Cost after iteration 2400: 0.575616\n",
      "Cost after iteration 2500: 0.570278\n",
      "Cost after iteration 2600: 0.541176\n",
      "Cost after iteration 2700: 0.656020\n",
      "Cost after iteration 2800: 0.603333\n",
      "Cost after iteration 2900: 0.521493\n",
      "Cost after iteration 3000: 0.578603\n",
      "Cost after iteration 3100: 0.523117\n",
      "Cost after iteration 3200: 0.567743\n",
      "Cost after iteration 3300: 0.564538\n",
      "Cost after iteration 3400: 0.525698\n",
      "Cost after iteration 3500: 0.539814\n",
      "Cost after iteration 3600: 0.516172\n",
      "Cost after iteration 3700: 0.545941\n",
      "Cost after iteration 3800: 0.535019\n",
      "Cost after iteration 3900: 0.533175\n",
      "Cost after iteration 4000: 0.594652\n",
      "Cost after iteration 4100: 0.504232\n",
      "Cost after iteration 4200: 0.544198\n",
      "Cost after iteration 4300: 0.497062\n",
      "Cost after iteration 4400: 0.494925\n",
      "Cost after iteration 4500: 0.502159\n",
      "Cost after iteration 4600: 0.493213\n",
      "Cost after iteration 4700: 0.504389\n",
      "Cost after iteration 4800: 0.512056\n",
      "Cost after iteration 4900: 0.583056\n",
      "Cost after iteration 5000: 0.493462\n",
      "Cost after iteration 5100: 0.548930\n",
      "Cost after iteration 5200: 0.529058\n",
      "Cost after iteration 5300: 0.499386\n",
      "Cost after iteration 5400: 0.495639\n",
      "Cost after iteration 5500: 0.518698\n",
      "Cost after iteration 5600: 0.548309\n",
      "Cost after iteration 5700: 0.518554\n",
      "Cost after iteration 5800: 0.488923\n",
      "Cost after iteration 5900: 0.497603\n",
      "Cost after iteration 6000: 0.499895\n",
      "Cost after iteration 6100: 0.511924\n",
      "Cost after iteration 6200: 0.540456\n",
      "Cost after iteration 6300: 0.483107\n",
      "Cost after iteration 6400: 0.497107\n",
      "Cost after iteration 6500: 0.517925\n",
      "Cost after iteration 6600: 0.530842\n",
      "Cost after iteration 6700: 0.486453\n",
      "Cost after iteration 6800: 0.515843\n",
      "Cost after iteration 6900: 0.479805\n",
      "Cost after iteration 7000: 0.513717\n",
      "Cost after iteration 7100: 0.483975\n",
      "Cost after iteration 7200: 0.510410\n",
      "Cost after iteration 7300: 0.478013\n",
      "Cost after iteration 7400: 0.533365\n",
      "Cost after iteration 7500: 0.504169\n",
      "Cost after iteration 7600: 0.499485\n",
      "Cost after iteration 7700: 0.475445\n",
      "Cost after iteration 7800: 0.483593\n",
      "Cost after iteration 7900: 0.484283\n",
      "Cost after iteration 8000: 0.481946\n",
      "Cost after iteration 8100: 0.486655\n",
      "Cost after iteration 8200: 0.477907\n",
      "Cost after iteration 8300: 0.476124\n",
      "Cost after iteration 8400: 0.502744\n",
      "Cost after iteration 8500: 0.484126\n",
      "Cost after iteration 8600: 0.503981\n",
      "Cost after iteration 8700: 0.505448\n",
      "Cost after iteration 8800: 0.487554\n",
      "Cost after iteration 8900: 0.478066\n",
      "Cost after iteration 9000: 0.476563\n",
      "Cost after iteration 9100: 0.484146\n",
      "Cost after iteration 9200: 0.484421\n",
      "Cost after iteration 9300: 0.483287\n",
      "Cost after iteration 9400: 0.482192\n",
      "Cost after iteration 9500: 0.481494\n",
      "Cost after iteration 9600: 0.478966\n",
      "Cost after iteration 9700: 0.476710\n",
      "Cost after iteration 9800: 0.475479\n",
      "Cost after iteration 9900: 0.477180\n",
      "Cost after iteration 10000: 0.477928\n",
      "Cost after iteration 10100: 0.477802\n",
      "Cost after iteration 10200: 0.477608\n",
      "Cost after iteration 10300: 0.476539\n",
      "Cost after iteration 10400: 0.475090\n",
      "Cost after iteration 10500: 0.473422\n",
      "Cost after iteration 10600: 0.477374\n",
      "Cost after iteration 10700: 0.475863\n",
      "Cost after iteration 10800: 0.474374\n",
      "Cost after iteration 10900: 0.474731\n",
      "Cost after iteration 11000: 0.474161\n",
      "Cost after iteration 11100: 0.474396\n",
      "Cost after iteration 11200: 0.473687\n",
      "Cost after iteration 11300: 0.473053\n",
      "Cost after iteration 11400: 0.474155\n",
      "Cost after iteration 11500: 0.472957\n",
      "Cost after iteration 11600: 0.473375\n",
      "Cost after iteration 11700: 0.473929\n",
      "Cost after iteration 11800: 0.472455\n",
      "Cost after iteration 11900: 0.474053\n",
      "Cost after iteration 12000: 0.473409\n",
      "Cost after iteration 12100: 0.470036\n",
      "Cost after iteration 12200: 0.470658\n",
      "Cost after iteration 12300: 0.470209\n",
      "Cost after iteration 12400: 0.469813\n",
      "Cost after iteration 12500: 0.470804\n",
      "Cost after iteration 12600: 0.468774\n",
      "Cost after iteration 12700: 0.469749\n",
      "Cost after iteration 12800: 0.469266\n",
      "Cost after iteration 12900: 0.468753\n",
      "Cost after iteration 13000: 0.468649\n",
      "Cost after iteration 13100: 0.468687\n",
      "Cost after iteration 13200: 0.467124\n",
      "Cost after iteration 13300: 0.467818\n",
      "Cost after iteration 13400: 0.467530\n",
      "Cost after iteration 13500: 0.466830\n",
      "Cost after iteration 13600: 0.467279\n",
      "Cost after iteration 13700: 0.467678\n",
      "Cost after iteration 13800: 0.467066\n",
      "Cost after iteration 13900: 0.467342\n",
      "Cost after iteration 14000: 0.467629\n",
      "Cost after iteration 14100: 0.466865\n",
      "Cost after iteration 14200: 0.466577\n",
      "Cost after iteration 14300: 0.465426\n",
      "Cost after iteration 14400: 0.465681\n",
      "Cost after iteration 14500: 0.465440\n",
      "Cost after iteration 14600: 0.464775\n",
      "Cost after iteration 14700: 0.464793\n",
      "Cost after iteration 14800: 0.464120\n",
      "Cost after iteration 14900: 0.463904\n",
      "Cost after iteration 15000: 0.463572\n",
      "Cost after iteration 15100: 0.463264\n",
      "Cost after iteration 15200: 0.463230\n",
      "Cost after iteration 15300: 0.463089\n",
      "Cost after iteration 15400: 0.462925\n",
      "Cost after iteration 15500: 0.462837\n",
      "Cost after iteration 15600: 0.462541\n",
      "Cost after iteration 15700: 0.462358\n",
      "Cost after iteration 15800: 0.462155\n",
      "Cost after iteration 15900: 0.461656\n",
      "Cost after iteration 16000: 0.461695\n",
      "Cost after iteration 16100: 0.461298\n",
      "Cost after iteration 16200: 0.461102\n",
      "Cost after iteration 16300: 0.461064\n",
      "Cost after iteration 16400: 0.460453\n",
      "Cost after iteration 16500: 0.460459\n",
      "Cost after iteration 16600: 0.461151\n",
      "Cost after iteration 16700: 0.459822\n",
      "Cost after iteration 16800: 0.459640\n",
      "Cost after iteration 16900: 0.458988\n",
      "Cost after iteration 17000: 0.459139\n",
      "Cost after iteration 17100: 0.459175\n",
      "Cost after iteration 17200: 0.458850\n",
      "Cost after iteration 17300: 0.458698\n",
      "Cost after iteration 17400: 0.458547\n",
      "Cost after iteration 17500: 0.458393\n",
      "Cost after iteration 17600: 0.458239\n",
      "Cost after iteration 17700: 0.458090\n",
      "Cost after iteration 17800: 0.457871\n",
      "Cost after iteration 17900: 0.458092\n",
      "Cost after iteration 18000: 0.456965\n",
      "Cost after iteration 18100: 0.458032\n",
      "Cost after iteration 18200: 0.456275\n",
      "Cost after iteration 18300: 0.457604\n",
      "Cost after iteration 18400: 0.456150\n",
      "Cost after iteration 18500: 0.456052\n",
      "Cost after iteration 18600: 0.456076\n",
      "Cost after iteration 18700: 0.456159\n",
      "Cost after iteration 18800: 0.455974\n",
      "Cost after iteration 18900: 0.455914\n",
      "Cost after iteration 19000: 0.455548\n",
      "Cost after iteration 19100: 0.455480\n",
      "Cost after iteration 19200: 0.455357\n",
      "Cost after iteration 19300: 0.455749\n",
      "Cost after iteration 19400: 0.455410\n",
      "Cost after iteration 19500: 0.455199\n",
      "Cost after iteration 19600: 0.455081\n",
      "Cost after iteration 19700: 0.454973\n",
      "Cost after iteration 19800: 0.454854\n",
      "Cost after iteration 19900: 0.454740\n",
      "Cost after iteration 20000: 0.454625\n",
      "Cost after iteration 20100: 0.454460\n",
      "Cost after iteration 20200: 0.454197\n",
      "Cost after iteration 20300: 0.453952\n",
      "Cost after iteration 20400: 0.453758\n",
      "Cost after iteration 20500: 0.453595\n",
      "Cost after iteration 20600: 0.453664\n",
      "Cost after iteration 20700: 0.453533\n",
      "Cost after iteration 20800: 0.453185\n",
      "Cost after iteration 20900: 0.453199\n",
      "Cost after iteration 21000: 0.453111\n",
      "Cost after iteration 21100: 0.453021\n",
      "Cost after iteration 21200: 0.452930\n",
      "Cost after iteration 21300: 0.452640\n",
      "Cost after iteration 21400: 0.452557\n",
      "Cost after iteration 21500: 0.452474\n",
      "Cost after iteration 21600: 0.452333\n",
      "Cost after iteration 21700: 0.452249\n",
      "Cost after iteration 21800: 0.452307\n",
      "Cost after iteration 21900: 0.452440\n",
      "Cost after iteration 22000: 0.451739\n",
      "Cost after iteration 22100: 0.452209\n",
      "Cost after iteration 22200: 0.451802\n",
      "Cost after iteration 22300: 0.451320\n",
      "Cost after iteration 22400: 0.451515\n",
      "Cost after iteration 22500: 0.451467\n",
      "Cost after iteration 22600: 0.451390\n",
      "Cost after iteration 22700: 0.451315\n",
      "Cost after iteration 22800: 0.451240\n",
      "Cost after iteration 22900: 0.451165\n",
      "Cost after iteration 23000: 0.451092\n",
      "Cost after iteration 23100: 0.451019\n",
      "Cost after iteration 23200: 0.450898\n",
      "Cost after iteration 23300: 0.450827\n",
      "Cost after iteration 23400: 0.450756\n",
      "Cost after iteration 23500: 0.450686\n",
      "Cost after iteration 23600: 0.452415\n",
      "Cost after iteration 23700: 0.451326\n",
      "Cost after iteration 23800: 0.451765\n",
      "Cost after iteration 23900: 0.450979\n",
      "Cost after iteration 24000: 0.451954\n",
      "Cost after iteration 24100: 0.450424\n",
      "Cost after iteration 24200: 0.451351\n",
      "Cost after iteration 24300: 0.451489\n",
      "Cost after iteration 24400: 0.450519\n",
      "Cost after iteration 24500: 0.452198\n",
      "Cost after iteration 24600: 0.450976\n",
      "Cost after iteration 24700: 0.450788\n",
      "Cost after iteration 24800: 0.450677\n",
      "Cost after iteration 24900: 0.450605\n",
      "Cost after iteration 25000: 0.451066\n",
      "Cost after iteration 25100: 0.452121\n",
      "Cost after iteration 25200: 0.451177\n",
      "Cost after iteration 25300: 0.450677\n",
      "Cost after iteration 25400: 0.451776\n",
      "Cost after iteration 25500: 0.450903\n",
      "Cost after iteration 25600: 0.451424\n",
      "Cost after iteration 25700: 0.452031\n",
      "Cost after iteration 25800: 0.451728\n",
      "Cost after iteration 25900: 0.450346\n",
      "Cost after iteration 26000: 0.452145\n",
      "Cost after iteration 26100: 0.451690\n",
      "Cost after iteration 26200: 0.451616\n",
      "Cost after iteration 26300: 0.451429\n",
      "Cost after iteration 26400: 0.451370\n",
      "Cost after iteration 26500: 0.451311\n",
      "Cost after iteration 26600: 0.451253\n",
      "Cost after iteration 26700: 0.451108\n",
      "Cost after iteration 26800: 0.451008\n",
      "Cost after iteration 26900: 0.450985\n",
      "Cost after iteration 27000: 0.450923\n",
      "Cost after iteration 27100: 0.450863\n",
      "Cost after iteration 27200: 0.450805\n",
      "Cost after iteration 27300: 0.450747\n",
      "Cost after iteration 27400: 0.450598\n",
      "Cost after iteration 27500: 0.450486\n",
      "Cost after iteration 27600: 0.450436\n",
      "Cost after iteration 27700: 0.450378\n",
      "Cost after iteration 27800: 0.450292\n",
      "Cost after iteration 27900: 0.450216\n",
      "Cost after iteration 28000: 0.451285\n",
      "Cost after iteration 28100: 0.451057\n",
      "Cost after iteration 28200: 0.450928\n",
      "Cost after iteration 28300: 0.450721\n",
      "Cost after iteration 28400: 0.450660\n",
      "Cost after iteration 28500: 0.450537\n",
      "Cost after iteration 28600: 0.450466\n",
      "Cost after iteration 28700: 0.450400\n",
      "Cost after iteration 28800: 0.450338\n",
      "Cost after iteration 28900: 0.450222\n",
      "Cost after iteration 29000: 0.450142\n",
      "Cost after iteration 29100: 0.450102\n",
      "Cost after iteration 29200: 0.450041\n",
      "Cost after iteration 29300: 0.450112\n",
      "Cost after iteration 29400: 0.449966\n",
      "Cost after iteration 29500: 0.449937\n",
      "Cost after iteration 29600: 0.449872\n",
      "Cost after iteration 29700: 0.449816\n",
      "Cost after iteration 29800: 0.449780\n",
      "Cost after iteration 29900: 0.449705\n",
      "Cost after iteration 30000: 0.449651\n",
      "Cost after iteration 30100: 0.449605\n",
      "Cost after iteration 30200: 0.449539\n",
      "Cost after iteration 30300: 0.449467\n",
      "Cost after iteration 30400: 0.449289\n",
      "Cost after iteration 30500: 0.449446\n",
      "Cost after iteration 30600: 0.449256\n",
      "Cost after iteration 30700: 0.449308\n",
      "Cost after iteration 30800: 0.449056\n",
      "Cost after iteration 30900: 0.448762\n",
      "Cost after iteration 31000: 0.448695\n",
      "Cost after iteration 31100: 0.448663\n",
      "Cost after iteration 31200: 0.448629\n",
      "Cost after iteration 31300: 0.448475\n",
      "Cost after iteration 31400: 0.448445\n",
      "Cost after iteration 31500: 0.448412\n",
      "Cost after iteration 31600: 0.448378\n",
      "Cost after iteration 31700: 0.448343\n",
      "Cost after iteration 31800: 0.448307\n",
      "Cost after iteration 31900: 0.448272\n",
      "Cost after iteration 32000: 0.448235\n",
      "Cost after iteration 32100: 0.448200\n",
      "Cost after iteration 32200: 0.448164\n",
      "Cost after iteration 32300: 0.448129\n",
      "Cost after iteration 32400: 0.448094\n",
      "Cost after iteration 32500: 0.448058\n",
      "Cost after iteration 32600: 0.448024\n",
      "Cost after iteration 32700: 0.447990\n",
      "Cost after iteration 32800: 0.447956\n",
      "Cost after iteration 32900: 0.447922\n",
      "Cost after iteration 33000: 0.447889\n",
      "Cost after iteration 33100: 0.447856\n",
      "Cost after iteration 33200: 0.447823\n",
      "Cost after iteration 33300: 0.447791\n",
      "Cost after iteration 33400: 0.447758\n",
      "Cost after iteration 33500: 0.447727\n",
      "Cost after iteration 33600: 0.447695\n",
      "Cost after iteration 33700: 0.447663\n",
      "Cost after iteration 33800: 0.447633\n",
      "Cost after iteration 33900: 0.447602\n",
      "Cost after iteration 34000: 0.447527\n",
      "Cost after iteration 34100: 0.447496\n",
      "Cost after iteration 34200: 0.447469\n",
      "Cost after iteration 34300: 0.447389\n",
      "Cost after iteration 34400: 0.447357\n",
      "Cost after iteration 34500: 0.447325\n",
      "Cost after iteration 34600: 0.447294\n",
      "Cost after iteration 34700: 0.447264\n",
      "Cost after iteration 34800: 0.447162\n",
      "Cost after iteration 34900: 0.447057\n",
      "Cost after iteration 35000: 0.447188\n",
      "Cost after iteration 35100: 0.446998\n",
      "Cost after iteration 35200: 0.447127\n",
      "Cost after iteration 35300: 0.446936\n",
      "Cost after iteration 35400: 0.447235\n",
      "Cost after iteration 35500: 0.447141\n",
      "Cost after iteration 35600: 0.447119\n",
      "Cost after iteration 35700: 0.447388\n",
      "Cost after iteration 35800: 0.447258\n",
      "Cost after iteration 35900: 0.447704\n",
      "Cost after iteration 36000: 0.447278\n",
      "Cost after iteration 36100: 0.447182\n",
      "Cost after iteration 36200: 0.447577\n",
      "Cost after iteration 36300: 0.447600\n",
      "Cost after iteration 36400: 0.447845\n",
      "Cost after iteration 36500: 0.447392\n",
      "Cost after iteration 36600: 0.447367\n",
      "Cost after iteration 36700: 0.447599\n",
      "Cost after iteration 36800: 0.447522\n",
      "Cost after iteration 36900: 0.447890\n",
      "Cost after iteration 37000: 0.447569\n",
      "Cost after iteration 37100: 0.447368\n",
      "Cost after iteration 37200: 0.447553\n",
      "Cost after iteration 37300: 0.447939\n",
      "Cost after iteration 37400: 0.447457\n",
      "Cost after iteration 37500: 0.447318\n",
      "Cost after iteration 37600: 0.447253\n",
      "Cost after iteration 37700: 0.447995\n",
      "Cost after iteration 37800: 0.447811\n",
      "Cost after iteration 37900: 0.447776\n",
      "Cost after iteration 38000: 0.447745\n",
      "Cost after iteration 38100: 0.447716\n",
      "Cost after iteration 38200: 0.447688\n",
      "Cost after iteration 38300: 0.447662\n",
      "Cost after iteration 38400: 0.447635\n",
      "Cost after iteration 38500: 0.447610\n",
      "Cost after iteration 38600: 0.447584\n",
      "Cost after iteration 38700: 0.447559\n",
      "Cost after iteration 38800: 0.447534\n",
      "Cost after iteration 38900: 0.447509\n",
      "Cost after iteration 39000: 0.447484\n",
      "Cost after iteration 39100: 0.447460\n",
      "Cost after iteration 39200: 0.447436\n",
      "Cost after iteration 39300: 0.447411\n",
      "Cost after iteration 39400: 0.447387\n",
      "Cost after iteration 39500: 0.447304\n",
      "Cost after iteration 39600: 0.447279\n",
      "Cost after iteration 39700: 0.447253\n",
      "Cost after iteration 39800: 0.447189\n",
      "Cost after iteration 39900: 0.447055\n"
     ]
    },
    {
     "data": {
      "text/plain": "<Figure size 432x288 with 1 Axes>",
      "image/png": "[encoded data removed]"
     },
     "metadata": {
      "needs_background": "light"
     },
     "output_type": "display_data"
    }
   ],
   "source": [
    "layer_dimensions = [8, 3, 5, 1]\n",
    "initialise_parameters(layer_dimensions)\n",
    "parameters = L_layer_model(X, Y.transpose(),layer_dimensions, learning_rate=0.06, num_iterations = 40000, print_cost=True)"
   ],
   "metadata": {
    "collapsed": false,
    "pycharm": {
     "name": "#%%\n"
    }
   }
  },
  {
   "cell_type": "code",
   "execution_count": 554,
   "outputs": [
    {
     "name": "stdout",
     "output_type": "stream",
     "text": [
      "Accuracy: 86.36363636363636\n"
     ]
    },
    {
     "data": {
      "text/plain": "array([[0., 0., 0., 0., 1., 0., 0., 0., 1., 0., 0., 0., 1., 0., 1., 1.,\n        0., 0., 0., 1., 0., 0., 0., 1., 1., 0., 1., 0., 0., 0., 0., 0.,\n        0., 0., 1., 0., 0., 1., 0., 0., 0., 0., 0., 1., 1., 0., 0., 0.,\n        1., 0., 0., 0., 1., 1., 0., 0., 0., 0., 0., 1., 0., 0., 0., 0.,\n        0., 0., 0., 0., 1., 1., 0., 0., 1., 1., 1., 0., 0., 1., 0., 0.,\n        0., 0., 0., 0., 0., 0., 0., 1., 0., 0., 1., 0., 1., 0., 1., 0.,\n        0., 0., 1., 0., 1., 0., 0., 0., 1., 0., 0., 0., 0., 0., 0., 0.,\n        1., 0., 1., 0., 0., 1., 1., 1., 1., 0., 1., 0., 0., 1., 0., 0.,\n        0., 0., 0., 0., 0., 0., 0., 0., 0., 0., 1., 0., 0., 1., 0., 0.,\n        0., 0., 0., 0., 0., 0., 1., 0., 0., 0., 0., 0., 1., 1., 0., 1.,\n        0., 0., 1., 0., 0., 0., 0., 0., 0., 1., 0., 0., 0., 0., 0., 1.,\n        1., 0., 1., 1., 0., 0., 1., 0., 1., 0., 1., 0., 0., 0., 0., 0.,\n        0., 0., 0., 0., 1., 1., 0., 0., 0., 0., 0., 1., 0., 0., 0., 0.,\n        1., 0., 0., 0., 0., 0., 0., 0., 0., 0., 1., 0., 1., 0., 1., 0.,\n        1., 0., 0., 0., 0., 0., 0., 1., 0., 0., 0., 0., 0., 0., 1., 1.,\n        1., 1., 0., 0., 0., 0., 1., 0., 1., 0., 1., 0., 1., 0., 0., 0.,\n        0., 0., 1., 0., 0., 0., 1., 1., 0., 0., 0., 0., 0., 0., 0., 0.,\n        1., 0., 0., 1., 0., 0., 0., 0., 1., 0., 0., 1., 1., 0., 0., 0.,\n        0., 0., 0., 0., 0., 0., 0., 0., 1., 0., 0., 0., 0., 0., 0., 0.,\n        0., 1., 0., 0., 0., 0., 0., 0., 0., 0., 1., 1., 0., 0., 0., 0.,\n        0., 0., 0., 0., 1., 0., 1., 0., 0., 0., 1., 0., 0., 1., 0., 0.,\n        0., 0., 0., 0., 0., 0., 0., 1., 0., 1., 0., 1., 0., 1., 1., 0.,\n        0., 0., 1., 0., 1., 0., 0., 0., 0., 1., 1., 0., 1., 0., 0., 1.,\n        1., 0., 0., 1., 0., 0., 1., 1., 0., 0., 0., 0., 0., 0., 0., 1.,\n        0., 1., 0., 0., 0., 0., 0., 1., 0., 0., 0., 1., 0., 1., 0., 0.,\n        1., 0., 1., 1., 0., 0., 0., 0., 0., 1., 0., 1., 1., 0., 1., 0.,\n        0., 0.]])"
     },
     "execution_count": 554,
     "metadata": {},
     "output_type": "execute_result"
    }
   ],
   "source": [
    "df_test = pd.read_csv(file_path_test)\n",
    "X_embarked = df_test.Embarked.map(lambda df: replace_embarked(df))\n",
    "X_gender = df_test.Sex.map(lambda df: replace_gender(df))\n",
    "X_name = df_test.Name.map(lambda df: replace_name(df))\n",
    "X_class = df_test.Pclass\n",
    "X_sib = df_test.SibSp\n",
    "X_parch = df_test.Parch\n",
    "X_fare = df_test.Fare\n",
    "X_age = df_test.Age\n",
    "\n",
    "X = pd.concat([X_gender, X_class, X_name, X_embarked, X_sib, X_fare, X_parch, X_age], axis=1)\n",
    "X = np.array(X).transpose()\n",
    "#print(X.shape)\n",
    "Y = df_gender.Survived\n",
    "Y = np.array(Y)\n",
    "# print(Y.shape)\n",
    "predict(X, Y, parameters)"
   ],
   "metadata": {
    "collapsed": false,
    "pycharm": {
     "name": "#%%\n"
    }
   }
  },
  {
   "cell_type": "code",
   "execution_count": 554,
   "outputs": [],
   "source": [],
   "metadata": {
    "collapsed": false,
    "pycharm": {
     "name": "#%%\n"
    }
   }
  }
 ],
 "metadata": {
  "kernelspec": {
   "display_name": "Python 3",
   "language": "python",
   "name": "python3"
  },
  "language_info": {
   "codemirror_mode": {
    "name": "ipython",
    "version": 2
   },
   "file_extension": ".py",
   "mimetype": "text/x-python",
   "name": "python",
   "nbconvert_exporter": "python",
   "pygments_lexer": "ipython2",
   "version": "2.7.6"
  }
 },
 "nbformat": 4,
 "nbformat_minor": 0
}